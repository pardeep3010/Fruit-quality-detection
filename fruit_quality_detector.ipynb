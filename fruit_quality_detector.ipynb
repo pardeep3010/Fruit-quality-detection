{
 "cells": [
  {
   "cell_type": "code",
   "execution_count": 9,
   "id": "112206ab-476b-4150-a036-81f22798a62d",
   "metadata": {},
   "outputs": [],
   "source": [
    "import tensorflow as tf\n",
    "from tensorflow.keras.preprocessing.image import ImageDataGenerator\n",
    "from tensorflow.keras import layers, models\n",
    "import os"
   ]
  },
  {
   "cell_type": "code",
   "execution_count": 10,
   "id": "aaa6b1db-fc5f-4f39-a0a1-989759bd6d6b",
   "metadata": {},
   "outputs": [],
   "source": [
    "base_dir = r\"C:\\Users\\Aditya Reddy\\Downloads\\data\\FruitQuality\\FruitQuality\"\n",
    "img_height, img_width = 224, 224\n",
    "batch_size = 32"
   ]
  },
  {
   "cell_type": "code",
   "execution_count": 11,
   "id": "902b64e9-180b-4f43-a539-72ea0a5a0963",
   "metadata": {},
   "outputs": [
    {
     "name": "stdout",
     "output_type": "stream",
     "text": [
      "Found 4519 images belonging to 3 classes.\n",
      "Found 1128 images belonging to 3 classes.\n"
     ]
    }
   ],
   "source": [
    "datagen = ImageDataGenerator(\n",
    "    rescale=1./255,\n",
    "    validation_split=0.2\n",
    ")\n",
    "\n",
    "train_data = datagen.flow_from_directory(\n",
    "    base_dir,\n",
    "    target_size=(img_height, img_width),\n",
    "    batch_size=batch_size,\n",
    "    subset=\"training\",\n",
    "    class_mode='categorical'\n",
    ")\n",
    "\n",
    "val_data = datagen.flow_from_directory(\n",
    "    base_dir,\n",
    "    target_size=(img_height, img_width),\n",
    "    batch_size=batch_size,\n",
    "    subset=\"validation\",\n",
    "    class_mode='categorical'\n",
    ")"
   ]
  },
  {
   "cell_type": "code",
   "execution_count": 12,
   "id": "dadf0218-3deb-41f2-b586-881c21ac0a7a",
   "metadata": {},
   "outputs": [],
   "source": [
    "# Load pretrained MobileNetV2 model\n",
    "base_model = tf.keras.applications.MobileNetV2(input_shape=(img_height, img_width, 3),\n",
    "                                               include_top=False,\n",
    "                                               weights='imagenet')\n",
    "\n",
    "base_model.trainable = False  # Freeze base model\n"
   ]
  },
  {
   "cell_type": "code",
   "execution_count": 13,
   "id": "14190e96-6041-4021-b58b-acecf8ae5a16",
   "metadata": {},
   "outputs": [],
   "source": [
    "model = models.Sequential([\n",
    "    base_model,\n",
    "    layers.GlobalAveragePooling2D(),\n",
    "    layers.Dense(128, activation='relu'),\n",
    "    layers.Dropout(0.3),\n",
    "    layers.Dense(train_data.num_classes, activation='softmax')\n",
    "])\n",
    "model.compile(optimizer='adam',\n",
    "              loss='categorical_crossentropy',\n",
    "              metrics=['accuracy'])"
   ]
  },
  {
   "cell_type": "code",
   "execution_count": null,
   "id": "603f8903-52a6-4917-91ef-1a495dc2b6ab",
   "metadata": {},
   "outputs": [
    {
     "name": "stdout",
     "output_type": "stream",
     "text": [
      "Epoch 1/10\n"
     ]
    },
    {
     "name": "stderr",
     "output_type": "stream",
     "text": [
      "c:\\Users\\Aditya Reddy\\anaconda3\\Lib\\site-packages\\keras\\src\\trainers\\data_adapters\\py_dataset_adapter.py:121: UserWarning: Your `PyDataset` class should call `super().__init__(**kwargs)` in its constructor. `**kwargs` can include `workers`, `use_multiprocessing`, `max_queue_size`. Do not pass these arguments to `fit()`, as they will be ignored.\n",
      "  self._warn_if_super_not_called()\n"
     ]
    },
    {
     "name": "stdout",
     "output_type": "stream",
     "text": [
      "\u001b[1m142/142\u001b[0m \u001b[32m━━━━━━━━━━━━━━━━━━━━\u001b[0m\u001b[37m\u001b[0m \u001b[1m52s\u001b[0m 337ms/step - accuracy: 0.8747 - loss: 0.3378 - val_accuracy: 0.8644 - val_loss: 0.2538\n",
      "Epoch 2/10\n",
      "\u001b[1m142/142\u001b[0m \u001b[32m━━━━━━━━━━━━━━━━━━━━\u001b[0m\u001b[37m\u001b[0m \u001b[1m45s\u001b[0m 314ms/step - accuracy: 0.9938 - loss: 0.0275 - val_accuracy: 0.8777 - val_loss: 0.2825\n",
      "Epoch 3/10\n",
      "\u001b[1m142/142\u001b[0m \u001b[32m━━━━━━━━━━━━━━━━━━━━\u001b[0m\u001b[37m\u001b[0m \u001b[1m55s\u001b[0m 386ms/step - accuracy: 0.9945 - loss: 0.0162 - val_accuracy: 0.8573 - val_loss: 0.3507\n",
      "Epoch 4/10\n",
      "\u001b[1m142/142\u001b[0m \u001b[32m━━━━━━━━━━━━━━━━━━━━\u001b[0m\u001b[37m\u001b[0m \u001b[1m55s\u001b[0m 386ms/step - accuracy: 0.9982 - loss: 0.0107 - val_accuracy: 0.8582 - val_loss: 0.3779\n",
      "Epoch 5/10\n",
      "\u001b[1m142/142\u001b[0m \u001b[32m━━━━━━━━━━━━━━━━━━━━\u001b[0m\u001b[37m\u001b[0m \u001b[1m49s\u001b[0m 343ms/step - accuracy: 0.9962 - loss: 0.0108 - val_accuracy: 0.8520 - val_loss: 0.4555\n",
      "Epoch 6/10\n",
      "\u001b[1m142/142\u001b[0m \u001b[32m━━━━━━━━━━━━━━━━━━━━\u001b[0m\u001b[37m\u001b[0m \u001b[1m47s\u001b[0m 330ms/step - accuracy: 0.9991 - loss: 0.0056 - val_accuracy: 0.8014 - val_loss: 0.6844\n",
      "Epoch 7/10\n",
      "\u001b[1m142/142\u001b[0m \u001b[32m━━━━━━━━━━━━━━━━━━━━\u001b[0m\u001b[37m\u001b[0m \u001b[1m45s\u001b[0m 319ms/step - accuracy: 0.9960 - loss: 0.0136 - val_accuracy: 0.8590 - val_loss: 0.3725\n",
      "Epoch 8/10\n",
      "\u001b[1m142/142\u001b[0m \u001b[32m━━━━━━━━━━━━━━━━━━━━\u001b[0m\u001b[37m\u001b[0m \u001b[1m78s\u001b[0m 553ms/step - accuracy: 0.9990 - loss: 0.0056 - val_accuracy: 0.8582 - val_loss: 0.4721\n",
      "Epoch 9/10\n",
      "\u001b[1m 38/142\u001b[0m \u001b[32m━━━━━\u001b[0m\u001b[37m━━━━━━━━━━━━━━━\u001b[0m \u001b[1m1:00\u001b[0m 586ms/step - accuracy: 0.9980 - loss: 0.0089"
     ]
    }
   ],
   "source": [
    "model.fit(train_data, validation_data=val_data, epochs=10)"
   ]
  },
  {
   "cell_type": "code",
   "execution_count": null,
   "id": "0788eb1f-1df1-4a14-8d59-a20224841762",
   "metadata": {},
   "outputs": [],
   "source": []
  }
 ],
 "metadata": {
  "kernelspec": {
   "display_name": "base",
   "language": "python",
   "name": "python3"
  },
  "language_info": {
   "codemirror_mode": {
    "name": "ipython",
    "version": 3
   },
   "file_extension": ".py",
   "mimetype": "text/x-python",
   "name": "python",
   "nbconvert_exporter": "python",
   "pygments_lexer": "ipython3",
   "version": "3.12.7"
  }
 },
 "nbformat": 4,
 "nbformat_minor": 5
}
